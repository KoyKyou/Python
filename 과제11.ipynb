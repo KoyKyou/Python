{
  "nbformat": 4,
  "nbformat_minor": 0,
  "metadata": {
    "colab": {
      "provenance": [],
      "authorship_tag": "ABX9TyM3YZ17Of5kNNrSXWRHxHlG",
      "include_colab_link": true
    },
    "kernelspec": {
      "name": "python3",
      "display_name": "Python 3"
    },
    "language_info": {
      "name": "python"
    }
  },
  "cells": [
    {
      "cell_type": "markdown",
      "metadata": {
        "id": "view-in-github",
        "colab_type": "text"
      },
      "source": [
        "<a href=\"https://colab.research.google.com/github/KoyKyou/Python/blob/main/%EA%B3%BC%EC%A0%9C11.ipynb\" target=\"_parent\"><img src=\"https://colab.research.google.com/assets/colab-badge.svg\" alt=\"Open In Colab\"/></a>"
      ]
    },
    {
      "cell_type": "code",
      "execution_count": 2,
      "metadata": {
        "colab": {
          "base_uri": "https://localhost:8080/"
        },
        "id": "8vtIacLOecCU",
        "outputId": "6bf3cc39-c773-43e8-b5de-4cabdc303615"
      },
      "outputs": [
        {
          "output_type": "stream",
          "name": "stdout",
          "text": [
            "숫자 : 10\n",
            "숫자 : 20\n",
            "숫자 : 30\n",
            "숫자 : 40\n",
            "숫자 : 50\n",
            "리스트의 합계 :  150\n"
          ]
        }
      ],
      "source": [
        "NumList = [0,0,0,0,0]\n",
        "\n",
        "NumList[0] = input(\"숫자 : \")\n",
        "NumList[1] = input(\"숫자 : \")\n",
        "NumList[2] = input(\"숫자 : \")\n",
        "NumList[3] = input(\"숫자 : \")\n",
        "NumList[4] = input(\"숫자 : \")\n",
        "\n",
        "sum = int(NumList[0]) + int(NumList[1]) + int(NumList[2]) + int(NumList[3]) + int(NumList[4])\n",
        "print(\"리스트의 합계 : \", sum)"
      ]
    },
    {
      "cell_type": "code",
      "source": [
        "myList = []\n",
        "\n",
        "myList.append(\"안산\")\n",
        "myList.append(\"공고\")\n",
        "myList.append(3100)\n",
        "myList.append(777)\n",
        "\n",
        "print(myList)"
      ],
      "metadata": {
        "colab": {
          "base_uri": "https://localhost:8080/"
        },
        "id": "h3UY0I73r6H_",
        "outputId": "15b0dabe-0aa0-4bd4-b684-42e1201efbae"
      },
      "execution_count": 3,
      "outputs": [
        {
          "output_type": "stream",
          "name": "stdout",
          "text": [
            "['안산', '공고', 3100, 777]\n"
          ]
        }
      ]
    },
    {
      "cell_type": "code",
      "source": [
        "import random\n",
        "\n",
        "horse = [\"삶이 있는 한 희망은 있다\", \"산다는것 그것은 치열한 전투이다\", \"하루에 3시간을 걸으면 7년 후에 지구를 한바퀴 돌 수 있다.\", \"언제나 현재에 집중할 수 있다면 행복할것이다.\", \"내일은 내일의 태양이 뜬다\"]\n",
        "\n",
        "rnd_say = random.sample(horse,1)\n",
        "print(\"오늘의 명언 ==> \", rnd_say) "
      ],
      "metadata": {
        "colab": {
          "base_uri": "https://localhost:8080/"
        },
        "id": "XhMwZOhXtrP-",
        "outputId": "c8bf8f01-76df-4933-c292-d310cdfa5033"
      },
      "execution_count": 21,
      "outputs": [
        {
          "output_type": "stream",
          "name": "stdout",
          "text": [
            "오늘의 명언 ==>  ['삶이 있는 한 희망은 있다']\n"
          ]
        }
      ]
    },
    {
      "cell_type": "code",
      "source": [
        "import random\n",
        "\n",
        "horse = [\"삶이 있는 한 희망은 있다\", \"산다는것 그것은 치열한 전투이다\", \"하루에 3시간을 걸으면 7년 후에 지구를 한바퀴 돌 수 있다.\", \"언제나 현재에 집중할 수 있다면 행복할것이다.\", \"내일은 내일의 태양이 뜬다\"]\n",
        "\n",
        "rnd = random.randint(0,len(horse)-1)\n",
        "rndsay = horse[rnd]\n",
        "\n",
        "print(\"오늘의 명언 ==> \", rndsay) "
      ],
      "metadata": {
        "colab": {
          "base_uri": "https://localhost:8080/"
        },
        "id": "-nf_ZD4PxmZt",
        "outputId": "8983b7a0-4e03-4a2b-f89d-6032f2825dc3"
      },
      "execution_count": 34,
      "outputs": [
        {
          "output_type": "stream",
          "name": "stdout",
          "text": [
            "오늘의 명언 ==>  언제나 현재에 집중할 수 있다면 행복할것이다.\n"
          ]
        }
      ]
    },
    {
      "cell_type": "code",
      "source": [
        "import datetime\n",
        "\n",
        "now = datetime.date.today()\n",
        "\n",
        "birthday = datetime.date(2005,8,23)\n",
        "\n",
        "age = now - birthday\n",
        "\n",
        "print(age.days/365)"
      ],
      "metadata": {
        "colab": {
          "base_uri": "https://localhost:8080/"
        },
        "id": "EaDJN23HyPDF",
        "outputId": "0175449a-b23e-451f-f6f3-8cddd4a49115"
      },
      "execution_count": 37,
      "outputs": [
        {
          "output_type": "stream",
          "name": "stdout",
          "text": [
            "17.64109589041096\n"
          ]
        }
      ]
    },
    {
      "cell_type": "code",
      "source": [
        "import datetime\n",
        "\n",
        "now = datetime.date.today()\n",
        "\n",
        "test = datetime.date(2023,11,16)\n",
        "\n",
        "Dday = test - now\n",
        "\n",
        "print(Dday.days)"
      ],
      "metadata": {
        "colab": {
          "base_uri": "https://localhost:8080/"
        },
        "id": "tZrG7ucGzvU9",
        "outputId": "03c79871-ec6a-4f05-ef74-7e09ef8cb36b"
      },
      "execution_count": 41,
      "outputs": [
        {
          "output_type": "stream",
          "name": "stdout",
          "text": [
            "220\n"
          ]
        }
      ]
    }
  ]
}