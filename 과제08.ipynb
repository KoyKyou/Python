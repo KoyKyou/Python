{
  "nbformat": 4,
  "nbformat_minor": 0,
  "metadata": {
    "colab": {
      "provenance": [],
      "authorship_tag": "ABX9TyM3X50Dt5LMHPavf3+O2Hht",
      "include_colab_link": true
    },
    "kernelspec": {
      "name": "python3",
      "display_name": "Python 3"
    },
    "language_info": {
      "name": "python"
    }
  },
  "cells": [
    {
      "cell_type": "markdown",
      "metadata": {
        "id": "view-in-github",
        "colab_type": "text"
      },
      "source": [
        "<a href=\"https://colab.research.google.com/github/KoyKyou/Python/blob/main/%EA%B3%BC%EC%A0%9C08.ipynb\" target=\"_parent\"><img src=\"https://colab.research.google.com/assets/colab-badge.svg\" alt=\"Open In Colab\"/></a>"
      ]
    },
    {
      "cell_type": "code",
      "execution_count": 5,
      "metadata": {
        "colab": {
          "base_uri": "https://localhost:8080/"
        },
        "id": "fP9SqLFSXinF",
        "outputId": "9d1ff8b3-1659-4453-dc8b-38d63a314253"
      },
      "outputs": [
        {
          "output_type": "stream",
          "name": "stdout",
          "text": [
            "27 11 9 3 29 36\n"
          ]
        }
      ],
      "source": [
        "import random\n",
        "\n",
        "rndNumber1 = random.randint(1,45)\n",
        "rndNumber2 = random.randint(1,45)\n",
        "rndNumber3 = random.randint(1,45)\n",
        "rndNumber4 = random.randint(1,45)\n",
        "rndNumber5 = random.randint(1,45)\n",
        "rndNumber6 = random.randint(1,45)\n",
        "\n",
        "print(rndNumber1, rndNumber2, rndNumber3, rndNumber4, rndNumber5, rndNumber6)"
      ]
    },
    {
      "cell_type": "code",
      "source": [
        "import random\n",
        "lottoNumber = [0,0,0,0,0,0]\n",
        "\n",
        "for i in range(6):\n",
        "  lottoNumber [i] = random.randint(1,45)\n",
        "for i in range(6):\n",
        "  print(lottoNumber[i],end=\" \")"
      ],
      "metadata": {
        "colab": {
          "base_uri": "https://localhost:8080/"
        },
        "id": "AcbMKFO-Y9lZ",
        "outputId": "c9ea199c-7233-43e1-ef68-c28bb671d22c"
      },
      "execution_count": 11,
      "outputs": [
        {
          "output_type": "stream",
          "name": "stdout",
          "text": [
            "30 9 28 26 2 37 "
          ]
        }
      ]
    },
    {
      "cell_type": "code",
      "source": [
        "import random\n",
        "\n",
        "foods = [\"떡볶이\", \"순대\", \"소고기\", \"쿠키\", \" 라면\"]\n",
        "\n",
        "result = random.choice(foods)\n",
        "\n",
        "print(result)"
      ],
      "metadata": {
        "colab": {
          "base_uri": "https://localhost:8080/"
        },
        "id": "erFXdkyeccP_",
        "outputId": "f505d800-2f6d-49bc-e0c9-3a3c8250a6f5"
      },
      "execution_count": 17,
      "outputs": [
        {
          "output_type": "stream",
          "name": "stdout",
          "text": [
            "쿠키\n"
          ]
        }
      ]
    },
    {
      "cell_type": "code",
      "source": [
        "from types import prepare_class\n",
        "import random\n",
        "computer = \"\"\n",
        "player = input(\"나의 가위/바위/보 : \")\n",
        "\n",
        "computer = random.choice([\"가위\", \"바위\", \"보\"])\n",
        "print(\" 플레이어=> \", player,\"\\n\", \"컴퓨터=> \", computer)\n",
        "if computer == player :\n",
        "  pass\n",
        "  print(\"비겼다\")\n",
        "elif (player == \"보\" and computer == \"가위\") or \\\n",
        "(player == \"바위\" and computer == \"보\") or \\\n",
        "(player == \"가위\" and computer == \"바위\") :\n",
        "  pass\n",
        "  print(\"졌다\")\n",
        "else :\n",
        "  print(\"이겼다\")\n"
      ],
      "metadata": {
        "colab": {
          "base_uri": "https://localhost:8080/"
        },
        "id": "sqobLOn5aygJ",
        "outputId": "a995ae35-0da1-44b6-dd08-6d8403224e63"
      },
      "execution_count": 47,
      "outputs": [
        {
          "output_type": "stream",
          "name": "stdout",
          "text": [
            "나의 가위/바위/보 : 가위\n",
            " 플레이어=>  가위 \n",
            " 컴퓨터=>  바위\n",
            "졌다\n"
          ]
        }
      ]
    }
  ]
}