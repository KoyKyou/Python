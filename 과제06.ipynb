{
  "nbformat": 4,
  "nbformat_minor": 0,
  "metadata": {
    "colab": {
      "provenance": [],
      "authorship_tag": "ABX9TyPzdPfPB/Tu4GtGvIQZFsRQ",
      "include_colab_link": true
    },
    "kernelspec": {
      "name": "python3",
      "display_name": "Python 3"
    },
    "language_info": {
      "name": "python"
    }
  },
  "cells": [
    {
      "cell_type": "markdown",
      "metadata": {
        "id": "view-in-github",
        "colab_type": "text"
      },
      "source": [
        "<a href=\"https://colab.research.google.com/github/KoyKyou/Python/blob/main/%EA%B3%BC%EC%A0%9C06.ipynb\" target=\"_parent\"><img src=\"https://colab.research.google.com/assets/colab-badge.svg\" alt=\"Open In Colab\"/></a>"
      ]
    },
    {
      "cell_type": "code",
      "execution_count": 5,
      "metadata": {
        "colab": {
          "base_uri": "https://localhost:8080/"
        },
        "id": "AGg2LAclJBLh",
        "outputId": "a1785c21-bf6b-4a4c-dbf3-f46b7a8712d5"
      },
      "outputs": [
        {
          "output_type": "stream",
          "name": "stdout",
          "text": [
            "원본 문자열===>  트 와 이 스\n",
            "반대 문자열===>  스이와트\n"
          ]
        }
      ],
      "source": [
        "sr = [\"트\", \"와\", \"이\", \"스\"]\n",
        "print(\"원본 문자열===> \", sr[0], sr[1], sr[2], sr[3])\n",
        "\n",
        "re = sr[3] + sr[2] + sr[1] + sr[0]\n",
        "\n",
        "print(\"반대 문자열===> \", re)\n",
        "\n"
      ]
    },
    {
      "cell_type": "code",
      "source": [
        "sr = \"트와이스\"\n",
        "\n",
        "print(\"원본 문자열: \", sr)\n",
        "\n",
        "print(\"반대 문자열: \", sr[::-1])"
      ],
      "metadata": {
        "colab": {
          "base_uri": "https://localhost:8080/"
        },
        "id": "epc9tEHAPkeU",
        "outputId": "d57b1633-b851-4057-8c45-4239a06f82cb"
      },
      "execution_count": 13,
      "outputs": [
        {
          "output_type": "stream",
          "name": "stdout",
          "text": [
            "원본 문자열:  트와이스\n",
            "반대 문자열:  스이와트\n"
          ]
        }
      ]
    },
    {
      "cell_type": "code",
      "source": [
        "sm = \"Python\"\n",
        "\n",
        "print(\"원본 문자열: \", sm)\n",
        "print(\"반대 문자열: \", sm[0].lower() + sm[1:6].upper())"
      ],
      "metadata": {
        "colab": {
          "base_uri": "https://localhost:8080/"
        },
        "id": "OVwy4DcQQoWj",
        "outputId": "24f75704-9685-4e0a-e7d2-45a727d139dd"
      },
      "execution_count": 21,
      "outputs": [
        {
          "output_type": "stream",
          "name": "stdout",
          "text": [
            "원본 문자열:  Python\n",
            "반대 문자열:  pYTHON\n"
          ]
        }
      ]
    }
  ]
}