{
  "nbformat": 4,
  "nbformat_minor": 0,
  "metadata": {
    "colab": {
      "provenance": [],
      "authorship_tag": "ABX9TyNYlGUbrvdkXkJdr7U3q8UB",
      "include_colab_link": true
    },
    "kernelspec": {
      "name": "python3",
      "display_name": "Python 3"
    },
    "language_info": {
      "name": "python"
    }
  },
  "cells": [
    {
      "cell_type": "markdown",
      "metadata": {
        "id": "view-in-github",
        "colab_type": "text"
      },
      "source": [
        "<a href=\"https://colab.research.google.com/github/KoyKyou/Python/blob/main/%EA%B3%BC%EC%A0%9C09.ipynb\" target=\"_parent\"><img src=\"https://colab.research.google.com/assets/colab-badge.svg\" alt=\"Open In Colab\"/></a>"
      ]
    },
    {
      "cell_type": "code",
      "execution_count": 5,
      "metadata": {
        "id": "Z-MY5Rgcbo4Z",
        "colab": {
          "base_uri": "https://localhost:8080/"
        },
        "outputId": "721ba60a-22fe-4801-f839-f7215113c037"
      },
      "outputs": [
        {
          "output_type": "stream",
          "name": "stdout",
          "text": [
            "컴퓨터과 3학년 1반\n",
            "컴퓨터과 3학년 1반\n"
          ]
        }
      ],
      "source": [
        "for i in range(0,6,3):\n",
        "  print(\"컴퓨터과 3학년 1반\")"
      ]
    },
    {
      "cell_type": "code",
      "source": [
        "for i in [0,1,2,3,4] :\n",
        "  print(i, \"컴퓨터과 3학년 1반\")"
      ],
      "metadata": {
        "colab": {
          "base_uri": "https://localhost:8080/"
        },
        "id": "9HLK_Wt8dnYx",
        "outputId": "e8eeb5b0-5ae7-4094-870f-3e90bc9d51de"
      },
      "execution_count": 6,
      "outputs": [
        {
          "output_type": "stream",
          "name": "stdout",
          "text": [
            "0 컴퓨터과 3학년 1반\n",
            "1 컴퓨터과 3학년 1반\n",
            "2 컴퓨터과 3학년 1반\n",
            "3 컴퓨터과 3학년 1반\n",
            "4 컴퓨터과 3학년 1반\n"
          ]
        }
      ]
    },
    {
      "cell_type": "code",
      "source": [
        "for i in [\"봄\",\"여름\",\"가을\",\"겨울\"]:\n",
        "  print(i, \"컴퓨터과 3학년 1반\")"
      ],
      "metadata": {
        "colab": {
          "base_uri": "https://localhost:8080/"
        },
        "id": "R7IbGWSwd9KR",
        "outputId": "f6c35908-c544-47e9-e5fc-052f795b1665"
      },
      "execution_count": 7,
      "outputs": [
        {
          "output_type": "stream",
          "name": "stdout",
          "text": [
            "봄 컴퓨터과 3학년 1반\n",
            "여름 컴퓨터과 3학년 1반\n",
            "가을 컴퓨터과 3학년 1반\n",
            "겨울 컴퓨터과 3학년 1반\n"
          ]
        }
      ]
    },
    {
      "cell_type": "code",
      "source": [
        "for i in range(1, 9, 1):\n",
        "  print(i, \"컴퓨터과\")"
      ],
      "metadata": {
        "colab": {
          "base_uri": "https://localhost:8080/"
        },
        "id": "UwHnLHXBeWdJ",
        "outputId": "70016ec7-6b40-44ab-a814-1ed617936162"
      },
      "execution_count": 8,
      "outputs": [
        {
          "output_type": "stream",
          "name": "stdout",
          "text": [
            "1 컴퓨터과\n",
            "2 컴퓨터과\n",
            "3 컴퓨터과\n",
            "4 컴퓨터과\n",
            "5 컴퓨터과\n",
            "6 컴퓨터과\n",
            "7 컴퓨터과\n",
            "8 컴퓨터과\n"
          ]
        }
      ]
    },
    {
      "cell_type": "code",
      "source": [
        "for i in range(2, 6, 1):\n",
        "  print(i, end=\" \")"
      ],
      "metadata": {
        "colab": {
          "base_uri": "https://localhost:8080/"
        },
        "id": "sl8laMg7e9on",
        "outputId": "a278cecf-8754-4f13-8232-0d3c05a3d616"
      },
      "execution_count": 9,
      "outputs": [
        {
          "output_type": "stream",
          "name": "stdout",
          "text": [
            "2 3 4 5 "
          ]
        }
      ]
    },
    {
      "cell_type": "code",
      "source": [
        "result = 1\n",
        "\n",
        "for i in range(1, 6, 1):\n",
        "  result = result * i\n",
        "print(\"A, B, C, D, E 학생들을 순서대로 세우는 경우의 수 : \", result)\n",
        "  "
      ],
      "metadata": {
        "colab": {
          "base_uri": "https://localhost:8080/"
        },
        "id": "m6BQNhTSfZ5D",
        "outputId": "0b2b6024-1ed4-43d7-d4f8-f3f5ca620633"
      },
      "execution_count": 15,
      "outputs": [
        {
          "output_type": "stream",
          "name": "stdout",
          "text": [
            "A, B, C, D, E 학생들을 순서대로 세우는 경우의 수 :  120\n"
          ]
        }
      ]
    },
    {
      "cell_type": "code",
      "source": [
        "result = 1\n",
        "\n",
        "for i in range(1, 11, 1):\n",
        "  result = result + i\n",
        "\n",
        "print(result)"
      ],
      "metadata": {
        "colab": {
          "base_uri": "https://localhost:8080/"
        },
        "id": "cOwCiVZmh13v",
        "outputId": "78c0e964-9009-4c49-e330-63584c37051d"
      },
      "execution_count": 17,
      "outputs": [
        {
          "output_type": "stream",
          "name": "stdout",
          "text": [
            "56\n"
          ]
        }
      ]
    },
    {
      "cell_type": "code",
      "source": [
        "ssum = 0\n",
        "for i in range(1001, 2001,2):\n",
        "  ssum = ssum + i\n",
        "print(ssum)"
      ],
      "metadata": {
        "colab": {
          "base_uri": "https://localhost:8080/"
        },
        "id": "m4GAPS1hil5O",
        "outputId": "fec7d259-c0e3-47fb-ae00-7cda8da492d9"
      },
      "execution_count": 28,
      "outputs": [
        {
          "output_type": "stream",
          "name": "stdout",
          "text": [
            "750000\n"
          ]
        }
      ]
    },
    {
      "cell_type": "code",
      "source": [
        "sum = 0\n",
        "for i in range(1000, 2001, 1):\n",
        "  if i%2 == 1:\n",
        "   sum = sum + i\n",
        "print(sum)"
      ],
      "metadata": {
        "colab": {
          "base_uri": "https://localhost:8080/"
        },
        "id": "6yykUJiejKrG",
        "outputId": "254224de-5c88-4c7f-f86e-c0286c03a218"
      },
      "execution_count": 27,
      "outputs": [
        {
          "output_type": "stream",
          "name": "stdout",
          "text": [
            "750000\n"
          ]
        }
      ]
    },
    {
      "cell_type": "code",
      "source": [
        "i, hap = 0, 0\n",
        "for i in range(500, 1001, 2):\n",
        "  hap += i\n",
        "print(\"500에서 1000까지의 짝수의 합 : \", hap)"
      ],
      "metadata": {
        "colab": {
          "base_uri": "https://localhost:8080/"
        },
        "id": "PquWb1-xjwDl",
        "outputId": "81e0ca47-3ded-4458-b4eb-34fb9f712534"
      },
      "execution_count": 33,
      "outputs": [
        {
          "output_type": "stream",
          "name": "stdout",
          "text": [
            "500에서 1000까지의 짝수의 합 :  188250\n"
          ]
        }
      ]
    },
    {
      "cell_type": "code",
      "source": [
        "for i in range(3):\n",
        "  for k in range(2):\n",
        "    print(\"i : \", i, \"k : \", k)"
      ],
      "metadata": {
        "colab": {
          "base_uri": "https://localhost:8080/"
        },
        "id": "ocg_ZdqwkhvF",
        "outputId": "34f3c8aa-46e2-4c3d-a9dd-5248ed0f00a2"
      },
      "execution_count": 34,
      "outputs": [
        {
          "output_type": "stream",
          "name": "stdout",
          "text": [
            "i :  0 k :  0\n",
            "i :  0 k :  1\n",
            "i :  1 k :  0\n",
            "i :  1 k :  1\n",
            "i :  2 k :  0\n",
            "i :  2 k :  1\n"
          ]
        }
      ]
    },
    {
      "cell_type": "code",
      "source": [
        "for i in range(1, 10, 1):\n",
        "  for k in range(2, 10, 1):\n",
        "    p = i * k\n",
        "\n",
        "    print(k, \"X\", i, \"=\", p, end=\"  \")\n",
        "  print(\"\\n\")"
      ],
      "metadata": {
        "colab": {
          "base_uri": "https://localhost:8080/"
        },
        "id": "0YMEbbSMqW4y",
        "outputId": "5f483dca-ff4b-4532-f34c-9e7d1492930c"
      },
      "execution_count": 52,
      "outputs": [
        {
          "output_type": "stream",
          "name": "stdout",
          "text": [
            "2 X 1 = 2  3 X 1 = 3  4 X 1 = 4  5 X 1 = 5  6 X 1 = 6  7 X 1 = 7  8 X 1 = 8  9 X 1 = 9  \n",
            "\n",
            "2 X 2 = 4  3 X 2 = 6  4 X 2 = 8  5 X 2 = 10  6 X 2 = 12  7 X 2 = 14  8 X 2 = 16  9 X 2 = 18  \n",
            "\n",
            "2 X 3 = 6  3 X 3 = 9  4 X 3 = 12  5 X 3 = 15  6 X 3 = 18  7 X 3 = 21  8 X 3 = 24  9 X 3 = 27  \n",
            "\n",
            "2 X 4 = 8  3 X 4 = 12  4 X 4 = 16  5 X 4 = 20  6 X 4 = 24  7 X 4 = 28  8 X 4 = 32  9 X 4 = 36  \n",
            "\n",
            "2 X 5 = 10  3 X 5 = 15  4 X 5 = 20  5 X 5 = 25  6 X 5 = 30  7 X 5 = 35  8 X 5 = 40  9 X 5 = 45  \n",
            "\n",
            "2 X 6 = 12  3 X 6 = 18  4 X 6 = 24  5 X 6 = 30  6 X 6 = 36  7 X 6 = 42  8 X 6 = 48  9 X 6 = 54  \n",
            "\n",
            "2 X 7 = 14  3 X 7 = 21  4 X 7 = 28  5 X 7 = 35  6 X 7 = 42  7 X 7 = 49  8 X 7 = 56  9 X 7 = 63  \n",
            "\n",
            "2 X 8 = 16  3 X 8 = 24  4 X 8 = 32  5 X 8 = 40  6 X 8 = 48  7 X 8 = 56  8 X 8 = 64  9 X 8 = 72  \n",
            "\n",
            "2 X 9 = 18  3 X 9 = 27  4 X 9 = 36  5 X 9 = 45  6 X 9 = 54  7 X 9 = 63  8 X 9 = 72  9 X 9 = 81  \n",
            "\n"
          ]
        }
      ]
    },
    {
      "cell_type": "code",
      "source": [
        "i = 0\n",
        "while(i<3):\n",
        "  print(i, \"와\")\n",
        "  i= i+ 1\n",
        "  "
      ],
      "metadata": {
        "colab": {
          "base_uri": "https://localhost:8080/"
        },
        "id": "vrbodrT7tvoI",
        "outputId": "46c9539f-9677-4573-ea7c-f1f503debe66"
      },
      "execution_count": 55,
      "outputs": [
        {
          "output_type": "stream",
          "name": "stdout",
          "text": [
            "0 와\n",
            "1 와\n",
            "2 와\n"
          ]
        }
      ]
    },
    {
      "cell_type": "code",
      "source": [
        "i = 0\n",
        "while True :\n",
        "  print(\"ㅎ\", end=\" \")\n",
        "  i = i + 1\n",
        "  if i == 10 :\n",
        "    break"
      ],
      "metadata": {
        "colab": {
          "base_uri": "https://localhost:8080/"
        },
        "id": "k_GzGYmSunX3",
        "outputId": "67f55c04-0eb5-4cfb-ad1a-fd8b551e53f5"
      },
      "execution_count": 57,
      "outputs": [
        {
          "output_type": "stream",
          "name": "stdout",
          "text": [
            "ㅎ ㅎ ㅎ ㅎ ㅎ ㅎ ㅎ ㅎ ㅎ ㅎ "
          ]
        }
      ]
    },
    {
      "cell_type": "code",
      "source": [
        "def menu() :\n",
        "    print(\"######################\")\n",
        "    print(\"# 1. 덧셈            #\")\n",
        "    print(\"# 2. 뺄셈            #\")\n",
        "    print(\"# 3. 나눗셈          #\")\n",
        "    print(\"# 4. 곱셈            #\")\n",
        "    print(\"# 5. 종료            #\")\n",
        "    print(\"######################\")\n",
        "\n",
        "\n",
        "def add() :\n",
        "  num1 = float(input(\"첫번째 숫자를 입력 : \"))\n",
        "  num2 = float(input(\"두번째 숫자를 입력 : \"))\n",
        "  sum = num1 + num2\n",
        "  return sum\n",
        "\n",
        "def sub() :\n",
        "  num1 = float(input(\"첫번째 숫자를 입력 : \"))\n",
        "  num2 = float(input(\"두번째 숫자를 입력 : \"))\n",
        "  sum = num1 - num2\n",
        "  return sum\n",
        "\n",
        "def div() :\n",
        "  num1 = float(input(\"첫번째 숫자를 입력 : \"))\n",
        "  num2 = float(input(\"두번째 숫자를 입력 : \"))\n",
        "  sum = num1 / num2\n",
        "  return sum\n",
        "\n",
        "def mul() :\n",
        "  num1 = float(input(\"첫번째 숫자를 입력 : \"))\n",
        "  num2 = float(input(\"두번째 숫자를 입력 : \"))\n",
        "  sum = num1 * num2\n",
        "  return sum\n",
        "\n",
        "\n",
        "while True :\n",
        "  menu()\n",
        "  select = int(input(\"메뉴를 선택 : \"))\n",
        "  if select == 5 :\n",
        "    break\n",
        "\n",
        "  elif select == 1:\n",
        "    sum = add()\n",
        "    print(\"두 수의 덧셈 결과 : \", sum)\n",
        "  \n",
        "  elif select == 2:\n",
        "    sum = sub()\n",
        "    print(\"두 수의 뺄셈 결과 : \", sum)\n",
        "\n",
        "  elif select == 3:\n",
        "    sum = div()\n",
        "    print(\"두 수의 나눗셈 결과 : \", sum)\n",
        "\n",
        "  elif select == 4:\n",
        "    sum = mul()\n",
        "    print(\"두 수의 곱셈 결과 : \", sum)\n",
        "\n"
      ],
      "metadata": {
        "colab": {
          "base_uri": "https://localhost:8080/"
        },
        "id": "wQ2OAb8ZvEE2",
        "outputId": "5fbe9564-0cf9-45a4-d1d2-50167d6a4052"
      },
      "execution_count": 67,
      "outputs": [
        {
          "name": "stdout",
          "output_type": "stream",
          "text": [
            "######################\n",
            "# 1. 덧셈            #\n",
            "# 2. 뺄셈            #\n",
            "# 3. 나눗셈          #\n",
            "# 4. 곱셈            #\n",
            "# 5. 종료            #\n",
            "######################\n",
            "메뉴를 선택 : 4\n",
            "첫번째 숫자를 입력 : 5\n",
            "두번째 숫자를 입력 : 8\n",
            "두 수의 곱셈 결과 :  40.0\n",
            "######################\n",
            "# 1. 덧셈            #\n",
            "# 2. 뺄셈            #\n",
            "# 3. 나눗셈          #\n",
            "# 4. 곱셈            #\n",
            "# 5. 종료            #\n",
            "######################\n",
            "메뉴를 선택 : 2\n",
            "첫번째 숫자를 입력 : 9\n",
            "두번째 숫자를 입력 : 3\n",
            "두 수의 뺄셈 결과 :  6.0\n",
            "######################\n",
            "# 1. 덧셈            #\n",
            "# 2. 뺄셈            #\n",
            "# 3. 나눗셈          #\n",
            "# 4. 곱셈            #\n",
            "# 5. 종료            #\n",
            "######################\n",
            "메뉴를 선택 : 3\n",
            "첫번째 숫자를 입력 : 9\n",
            "두번째 숫자를 입력 : 3\n",
            "두 수의 나눗셈 결과 :  3.0\n",
            "######################\n",
            "# 1. 덧셈            #\n",
            "# 2. 뺄셈            #\n",
            "# 3. 나눗셈          #\n",
            "# 4. 곱셈            #\n",
            "# 5. 종료            #\n",
            "######################\n",
            "메뉴를 선택 : 1\n",
            "첫번째 숫자를 입력 : 8\n",
            "두번째 숫자를 입력 : 3\n",
            "두 수의 덧셈 결과 :  11.0\n",
            "######################\n",
            "# 1. 덧셈            #\n",
            "# 2. 뺄셈            #\n",
            "# 3. 나눗셈          #\n",
            "# 4. 곱셈            #\n",
            "# 5. 종료            #\n",
            "######################\n",
            "메뉴를 선택 : 5\n"
          ]
        }
      ]
    }
  ]
}