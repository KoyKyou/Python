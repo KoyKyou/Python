{
  "nbformat": 4,
  "nbformat_minor": 0,
  "metadata": {
    "colab": {
      "provenance": [],
      "authorship_tag": "ABX9TyMSnmrvw3fAPFKakcbKGRxa",
      "include_colab_link": true
    },
    "kernelspec": {
      "name": "python3",
      "display_name": "Python 3"
    },
    "language_info": {
      "name": "python"
    }
  },
  "cells": [
    {
      "cell_type": "markdown",
      "metadata": {
        "id": "view-in-github",
        "colab_type": "text"
      },
      "source": [
        "<a href=\"https://colab.research.google.com/github/KoyKyou/Python/blob/main/%EC%8B%9C%ED%97%98%EB%8C%80%EB%B9%84.ipynb\" target=\"_parent\"><img src=\"https://colab.research.google.com/assets/colab-badge.svg\" alt=\"Open In Colab\"/></a>"
      ]
    },
    {
      "cell_type": "markdown",
      "source": [
        "1. 파이썬 프로그래밍 언어의 장점 (1.ppt)\n",
        "\n",
        "*   무료 오픈 소스\n",
        "*   모바일 컴퓨팅 분야에 지원이 약함\n",
        "*   다른 언어에 비해 실행 속도가 느림\n",
        "*   다양하고 강력한 외부 라이브러리 제공"
      ],
      "metadata": {
        "id": "X81vtKBPFnko"
      }
    },
    {
      "cell_type": "markdown",
      "source": [
        "2.파이썬 문법의 예약어(2.ppt)  \n",
        "\n",
        "변수로 지정할 수 없는 사용되고있는 단어\n",
        "(if, else 등등...)"
      ],
      "metadata": {
        "id": "NeaY2cQdGTy3"
      }
    },
    {
      "cell_type": "markdown",
      "source": [
        "3. 키보드로부터 입력받은 값을 변수에 저장할 수 있도록 도와주는 함수 (2.ppt)"
      ],
      "metadata": {
        "id": "buzww2rTHCR3"
      }
    },
    {
      "cell_type": "code",
      "execution_count": 6,
      "metadata": {
        "colab": {
          "base_uri": "https://localhost:8080/"
        },
        "id": "TjGMDWdmFdXQ",
        "outputId": "8b396ad3-9f1c-412e-f899-e28063902d53"
      },
      "outputs": [
        {
          "output_type": "stream",
          "name": "stdout",
          "text": [
            "5\n",
            "5\n"
          ]
        }
      ],
      "source": [
        "num = input()\n",
        "print(num)"
      ]
    },
    {
      "cell_type": "markdown",
      "source": [
        "4. 연산자(3.ppt)"
      ],
      "metadata": {
        "id": "G0Srq109HNpt"
      }
    },
    {
      "cell_type": "code",
      "source": [
        "num = 4\n",
        "result = num // 2\n",
        "print(result)"
      ],
      "metadata": {
        "colab": {
          "base_uri": "https://localhost:8080/"
        },
        "id": "J-beWJnIHRTF",
        "outputId": "6b45883b-213f-406b-900e-ab33522c6598"
      },
      "execution_count": 5,
      "outputs": [
        {
          "output_type": "stream",
          "name": "stdout",
          "text": [
            "2\n"
          ]
        }
      ]
    },
    {
      "cell_type": "markdown",
      "source": [
        "5. 대입연산자(3.ppt)\n",
        "\n",
        "* 여러개의 대입연산"
      ],
      "metadata": {
        "id": "alVyU2iMHdtu"
      }
    },
    {
      "cell_type": "code",
      "source": [
        "#n1 = 100\n",
        "#n1, n2 = 100, 200\n",
        "#n1, n2, n3 = 100, 200, 300\n",
        "#n1, n2, n3, n4 = 100, 200, 300, 400\n",
        "#n1, n2, n3, n4, n5 = 100, 200, 300, 400, 500"
      ],
      "metadata": {
        "id": "Q7GRgSFVHjPO"
      },
      "execution_count": 4,
      "outputs": []
    },
    {
      "cell_type": "markdown",
      "source": [
        "6. 비교 연산자(3.ppt)"
      ],
      "metadata": {
        "id": "K9OgN-OoH9zM"
      }
    },
    {
      "cell_type": "code",
      "source": [
        "var1 = (30 > 300)\n",
        "var2 = (300 <= 300)\n",
        "var3 = (30 <= 300)\n",
        "var4 = (300 > 30)\n",
        "var5 = (300 == 300)\n",
        "\n",
        "print(var1, var2, var3, var4, var5)"
      ],
      "metadata": {
        "colab": {
          "base_uri": "https://localhost:8080/"
        },
        "id": "L-ZKDu1TIvT-",
        "outputId": "69370b5c-d1e9-43c8-8473-25ed82fc9f09"
      },
      "execution_count": 3,
      "outputs": [
        {
          "output_type": "stream",
          "name": "stdout",
          "text": [
            "False True True True True\n"
          ]
        }
      ]
    },
    {
      "cell_type": "markdown",
      "source": [
        "7. len()함수 (4.ppt)"
      ],
      "metadata": {
        "id": "hJZITmQ_JrON"
      }
    },
    {
      "cell_type": "code",
      "source": [
        "var1 = \"안산공업고등학교\"\n",
        "len(var1)"
      ],
      "metadata": {
        "colab": {
          "base_uri": "https://localhost:8080/"
        },
        "id": "6mpBYnkqJu7E",
        "outputId": "c1a05ea2-8cd8-4bdf-f1de-2b3cc6cffbf3"
      },
      "execution_count": 2,
      "outputs": [
        {
          "output_type": "execute_result",
          "data": {
            "text/plain": [
              "8"
            ]
          },
          "metadata": {},
          "execution_count": 2
        }
      ]
    },
    {
      "cell_type": "markdown",
      "source": [
        "8.lower() 함수 (4.ppt)"
      ],
      "metadata": {
        "id": "90TXbhhxJzct"
      }
    },
    {
      "cell_type": "code",
      "source": [
        "var1 = \"Ansan\"\n",
        "print(var1.lower())"
      ],
      "metadata": {
        "colab": {
          "base_uri": "https://localhost:8080/"
        },
        "id": "ZjP2dNI3J3Kd",
        "outputId": "8903cc99-c274-4c52-9406-b7c55347bfc3"
      },
      "execution_count": 1,
      "outputs": [
        {
          "output_type": "stream",
          "name": "stdout",
          "text": [
            "ansan\n"
          ]
        }
      ]
    },
    {
      "cell_type": "markdown",
      "source": [
        "9. count() 함수 (4.ppt)\n",
        "\n",
        "* 문자열에서 어떤 글자가 몇 번 등장하는지 확인함"
      ],
      "metadata": {
        "id": "Fhem6V3XKAgc"
      }
    },
    {
      "cell_type": "code",
      "source": [
        "var1 = \"안산공업고등학교 컴퓨터과\"\n",
        "print(var1.count(\"컴퓨터\"))"
      ],
      "metadata": {
        "colab": {
          "base_uri": "https://localhost:8080/"
        },
        "id": "MKQUy4MDKQT9",
        "outputId": "4ccaa3d2-18e8-478a-df2d-8445c076cccd"
      },
      "execution_count": 7,
      "outputs": [
        {
          "output_type": "stream",
          "name": "stdout",
          "text": [
            "1\n"
          ]
        }
      ]
    },
    {
      "cell_type": "markdown",
      "source": [
        "10.문자열의 위치 (4.ppt)"
      ],
      "metadata": {
        "id": "0DZ1kIbHKUaF"
      }
    },
    {
      "cell_type": "code",
      "source": [
        "school = \"안산공고\"\n",
        "print(school[3], end='')\n",
        "print(school[2], end='')\n",
        "print(school[1], end='')\n",
        "print(school[0], end='')"
      ],
      "metadata": {
        "colab": {
          "base_uri": "https://localhost:8080/"
        },
        "id": "CLrUECw3KU51",
        "outputId": "8f92dcb3-7412-454c-e7bf-ee1aeea94d57"
      },
      "execution_count": 8,
      "outputs": [
        {
          "output_type": "stream",
          "name": "stdout",
          "text": [
            "고공산안"
          ]
        }
      ]
    },
    {
      "cell_type": "markdown",
      "source": [
        "11.순차구조 - 선택구조 - 반복구조(5.ppt)\n",
        "\n",
        "* 2가지 중 하나의 흐름으로 실행되는 구조 (선택구조)\n",
        "* 순서대로만 실행되는 구조는 (순차구조)\n",
        "* 동일한 코드, 특정한 단계가 여러 번 반복해서 실행 (반복구조)"
      ],
      "metadata": {
        "id": "vd34lxBHKVDt"
      }
    },
    {
      "cell_type": "markdown",
      "source": [
        "12. if문 (5.ppt)"
      ],
      "metadata": {
        "id": "D-XxokXlKVSt"
      }
    },
    {
      "cell_type": "code",
      "source": [
        " number = int(input(\"숫자==>\"))\n",
        "\n",
        " if (number %2 == 1 ) :\n",
        "  print(\"홀수\")\n",
        " else :\n",
        "  print(\"짝수\")"
      ],
      "metadata": {
        "colab": {
          "base_uri": "https://localhost:8080/"
        },
        "id": "-XK0R_RjKVYt",
        "outputId": "71041ade-320e-4a46-ff6e-e54b3d3d874a"
      },
      "execution_count": 13,
      "outputs": [
        {
          "output_type": "stream",
          "name": "stdout",
          "text": [
            "숫자==>6\n",
            "짝수\n"
          ]
        }
      ]
    },
    {
      "cell_type": "markdown",
      "source": [
        "13. for문 (6.ppt)"
      ],
      "metadata": {
        "id": "rEdV1TyaKVfW"
      }
    },
    {
      "cell_type": "code",
      "source": [
        "for i in range(3) :\n",
        "   print(\"안산공고\")"
      ],
      "metadata": {
        "colab": {
          "base_uri": "https://localhost:8080/"
        },
        "id": "RNoiV_zbKVke",
        "outputId": "ff9123fd-870f-4bc4-8707-a08292659d6d"
      },
      "execution_count": 16,
      "outputs": [
        {
          "output_type": "stream",
          "name": "stdout",
          "text": [
            "안산공고\n",
            "안산공고\n",
            "안산공고\n"
          ]
        }
      ]
    },
    {
      "cell_type": "markdown",
      "source": [
        "14. 중첩 for문(6.ppt)"
      ],
      "metadata": {
        "id": "LHT9_rq3KVq-"
      }
    },
    {
      "cell_type": "code",
      "source": [
        "for i in range(3) :\n",
        "  for j in range(3) :\n",
        "    print(\"안산공고\")"
      ],
      "metadata": {
        "colab": {
          "base_uri": "https://localhost:8080/"
        },
        "id": "nXO0LwKyKVwv",
        "outputId": "12b4295b-db83-4be0-d90d-fbc56c1abd91"
      },
      "execution_count": 17,
      "outputs": [
        {
          "output_type": "stream",
          "name": "stdout",
          "text": [
            "안산공고\n",
            "안산공고\n",
            "안산공고\n",
            "안산공고\n",
            "안산공고\n",
            "안산공고\n",
            "안산공고\n",
            "안산공고\n",
            "안산공고\n"
          ]
        }
      ]
    },
    {
      "cell_type": "markdown",
      "source": [
        "15. 리스트 (7.ppt)"
      ],
      "metadata": {
        "id": "xDKBPsCAKV2V"
      }
    },
    {
      "cell_type": "code",
      "source": [
        "a = (100)\n",
        "b = [3, 14]\n",
        "c = ['안산']\n",
        "d = [True]\n",
        "e = [False]\n",
        "\n",
        "print(type(a))\n",
        "print(type(b))\n",
        "print(type(c))\n",
        "print(type(d))\n",
        "print(type(e))\n"
      ],
      "metadata": {
        "colab": {
          "base_uri": "https://localhost:8080/"
        },
        "id": "8XcIBttmKV7t",
        "outputId": "9fd88a2d-e8cd-4370-89ac-c81f2e6b3f8e"
      },
      "execution_count": 19,
      "outputs": [
        {
          "output_type": "stream",
          "name": "stdout",
          "text": [
            "<class 'int'>\n",
            "<class 'list'>\n",
            "<class 'list'>\n",
            "<class 'list'>\n",
            "<class 'list'>\n"
          ]
        }
      ]
    },
    {
      "cell_type": "markdown",
      "source": [
        "16. 리스트 인덱싱 (7.ppt)"
      ],
      "metadata": {
        "id": "1dizRHlgKWCW"
      }
    },
    {
      "cell_type": "code",
      "source": [
        "numList = [10, 20, 30, 40]\n",
        "print(numList[0:3])"
      ],
      "metadata": {
        "colab": {
          "base_uri": "https://localhost:8080/"
        },
        "id": "m3tMUwTNKWIN",
        "outputId": "92a5f4ba-a97b-402b-ddc4-0c0ec462bd9b"
      },
      "execution_count": 29,
      "outputs": [
        {
          "output_type": "stream",
          "name": "stdout",
          "text": [
            "[10, 20, 30]\n"
          ]
        }
      ]
    },
    {
      "cell_type": "markdown",
      "source": [
        "17. 함수의 장점 (8.ppt)\n",
        "\n",
        "* 에러 수정이 쉽다.\n",
        "* 개발 시간을 단축할 수 있다.\n",
        "* 프로그램 유지 보수에 효과적이다.\n",
        "* 하나의 큰 프로그램을 기능별로 분리할 수 있다.\n",
        "* 이미 정의된 함수는 여러번 호출이 가능하다."
      ],
      "metadata": {
        "id": "p_8d0zHkKWOt"
      }
    },
    {
      "cell_type": "markdown",
      "source": [
        "18. 함수의 정의 (8.ppt)"
      ],
      "metadata": {
        "id": "6gVXFvccKWbW"
      }
    },
    {
      "cell_type": "code",
      "source": [
        "def fun1() :\n",
        "  pass"
      ],
      "metadata": {
        "id": "WWs-hffsKWg-"
      },
      "execution_count": 30,
      "outputs": []
    },
    {
      "cell_type": "markdown",
      "source": [
        "19. 함수 안에서 사용되는 변수로 지역변수 대신에 무조건 전역변수로 사용하고 싶은 경우에 사용하는 예약어 (8.ppt)\n",
        "\n",
        "global"
      ],
      "metadata": {
        "id": "GDTefToRKWoG"
      }
    },
    {
      "cell_type": "code",
      "source": [
        "global a"
      ],
      "metadata": {
        "id": "6EPHGELsKWun"
      },
      "execution_count": 31,
      "outputs": []
    },
    {
      "cell_type": "markdown",
      "source": [
        "20. 파일 읽기의 3단계(9.ppt)  \n",
        "\n",
        "# 파일 열기 - 파일 읽기 - 파일 닫기"
      ],
      "metadata": {
        "id": "zW0EzbC1KW1O"
      }
    },
    {
      "cell_type": "markdown",
      "source": [
        "21 파이썬에서 기본적으로 제공하는 GUI 라이브러리\n",
        "\n",
        "* tkinter"
      ],
      "metadata": {
        "id": "pRNz2xpQKXMe"
      }
    },
    {
      "cell_type": "markdown",
      "source": [
        "22. 윈도우 창의 제목을 설정\n",
        "\n",
        "window.title(\"simple Calculator\")"
      ],
      "metadata": {
        "id": "ILqZwgjJKXce"
      }
    }
  ]
}