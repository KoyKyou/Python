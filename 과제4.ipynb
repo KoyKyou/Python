{
  "nbformat": 4,
  "nbformat_minor": 0,
  "metadata": {
    "colab": {
      "provenance": [],
      "authorship_tag": "ABX9TyOVXus491uJtLsRC9B+ILjF",
      "include_colab_link": true
    },
    "kernelspec": {
      "name": "python3",
      "display_name": "Python 3"
    },
    "language_info": {
      "name": "python"
    }
  },
  "cells": [
    {
      "cell_type": "markdown",
      "metadata": {
        "id": "view-in-github",
        "colab_type": "text"
      },
      "source": [
        "<a href=\"https://colab.research.google.com/github/KoyKyou/Python/blob/main/%EA%B3%BC%EC%A0%9C4.ipynb\" target=\"_parent\"><img src=\"https://colab.research.google.com/assets/colab-badge.svg\" alt=\"Open In Colab\"/></a>"
      ]
    },
    {
      "cell_type": "code",
      "execution_count": 2,
      "metadata": {
        "colab": {
          "base_uri": "https://localhost:8080/"
        },
        "id": "x-lR05i4TV5k",
        "outputId": "670958fc-da95-4c42-edcf-450a15aadec2"
      },
      "outputs": [
        {
          "output_type": "stream",
          "name": "stdout",
          "text": [
            "오늘 총 매출액은 11600 원입니다.\n"
          ]
        }
      ],
      "source": [
        "total = 0\n",
        "\n",
        "total += 1800 * 2\n",
        "total += 4000 * 4\n",
        "total += 1500 * 1\n",
        "total += 2000 * 4\n",
        "total += 1800 * 5\n",
        "\n",
        "total -= 900 * 10\n",
        "total -= 3500 * 5\n",
        "print(\"오늘 총 매출액은\", total, \"원입니다.\" )"
      ]
    },
    {
      "cell_type": "code",
      "source": [
        "Total = 0\n",
        "Coffee1 = 500\n",
        "Coffee2 = 1800\n",
        "Gim1 = 900\n",
        "Gim2 = 1400\n",
        "Milk1 = 800\n",
        "Milk2 = 1800\n",
        "Bap1 = 3500\n",
        "Bap2 = 4000\n",
        "Cola1 = 700\n",
        "Cola2 = 1500\n",
        "Snack1 = 1000\n",
        "Snack2 = 2000\n",
        "\n",
        "Price = Milk2 * 2 + Bap2 * 4 + Cola2 * 1 +  Snack2 * 4 + Coffee2 * 5 - Gim1 * 10 - Bap1 * 5\n",
        "print(\"오늘 총 매출액은 \", Price, \"원입니다.\")"
      ],
      "metadata": {
        "colab": {
          "base_uri": "https://localhost:8080/"
        },
        "id": "1SvFujElWYWk",
        "outputId": "39850ceb-5536-48bf-a96c-20dfcaff38b3"
      },
      "execution_count": 3,
      "outputs": [
        {
          "output_type": "stream",
          "name": "stdout",
          "text": [
            "오늘 총 매출액은  11600 원입니다.\n"
          ]
        }
      ]
    }
  ]
}