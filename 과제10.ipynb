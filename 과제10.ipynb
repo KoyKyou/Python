{
  "nbformat": 4,
  "nbformat_minor": 0,
  "metadata": {
    "colab": {
      "provenance": [],
      "authorship_tag": "ABX9TyO39hOkbb9WVDzlG/Be7wrB",
      "include_colab_link": true
    },
    "kernelspec": {
      "name": "python3",
      "display_name": "Python 3"
    },
    "language_info": {
      "name": "python"
    }
  },
  "cells": [
    {
      "cell_type": "markdown",
      "metadata": {
        "id": "view-in-github",
        "colab_type": "text"
      },
      "source": [
        "<a href=\"https://colab.research.google.com/github/KoyKyou/Python/blob/main/%EA%B3%BC%EC%A0%9C10.ipynb\" target=\"_parent\"><img src=\"https://colab.research.google.com/assets/colab-badge.svg\" alt=\"Open In Colab\"/></a>"
      ]
    },
    {
      "cell_type": "code",
      "execution_count": 21,
      "metadata": {
        "colab": {
          "base_uri": "https://localhost:8080/"
        },
        "id": "3PKPrfpIQBKt",
        "outputId": "60ca2799-23a2-4b82-9c2b-7636396947a0"
      },
      "outputs": [
        {
          "output_type": "stream",
          "name": "stdout",
          "text": [
            "주사위 3개가 모두 4 이다.\n",
            " 같은 숫자가 나오기 까지 1 번 던졌습니다.\n"
          ]
        }
      ],
      "source": [
        "import random\n",
        "\n",
        "count = 0\n",
        "dice1, dice2, dice3 = 0, 0, 0\n",
        "\n",
        "while True :\n",
        "  dice1 = random.randint(1,6)\n",
        "  dice2 = random.randint(1,6)\n",
        "  dice3 = random.randint(1,6)\n",
        "  count = count+1\n",
        "\n",
        "  if dice1 == dice2 == dice3 :\n",
        "    print(\"주사위 3개가 모두\", dice1, \"이다.\")\n",
        "    print(\" 같은 숫자가 나오기 까지\", count, \"번 던졌습니다.\")\n",
        "    break"
      ]
    },
    {
      "cell_type": "code",
      "source": [
        "import random\n",
        "\n",
        "c = 0\n",
        "count = 1\n",
        "\n",
        "while count <= 10 :\n",
        "  c = random.randint(1,5)\n",
        "  print(\"제\", count, \"회\", end=\" \")\n",
        "  p = int(input(\"컴퓨터가 생각한 숫자는 ?\"))\n",
        "  count = count + 1\n",
        "  \n",
        "  if p == c :\n",
        "    print(\"맞혔네요. 축하합니다 !!\")\n",
        "    break\n",
        "\n",
        "  elif p != c :\n",
        "      print(\"아까워요.\", c, \"였는데요. 다시 해보세요. ㅠ\")\n",
        "\n"
      ],
      "metadata": {
        "colab": {
          "base_uri": "https://localhost:8080/"
        },
        "id": "bzDsahyvSCS9",
        "outputId": "7dc755c2-1018-40f6-dd81-1d7162652616"
      },
      "execution_count": 31,
      "outputs": [
        {
          "output_type": "stream",
          "name": "stdout",
          "text": [
            "제 1 회 컴퓨터가 생각한 숫자는 ?1\n",
            "아까워요. 4 였는데요. 다시 해보세요. ㅠ\n",
            "제 2 회 컴퓨터가 생각한 숫자는 ?4\n",
            "아까워요. 1 였는데요. 다시 해보세요. ㅠ\n",
            "제 3 회 컴퓨터가 생각한 숫자는 ?1\n",
            "아까워요. 4 였는데요. 다시 해보세요. ㅠ\n",
            "제 4 회 컴퓨터가 생각한 숫자는 ?8\n",
            "아까워요. 4 였는데요. 다시 해보세요. ㅠ\n",
            "제 5 회 컴퓨터가 생각한 숫자는 ?3\n",
            "아까워요. 2 였는데요. 다시 해보세요. ㅠ\n",
            "제 6 회 컴퓨터가 생각한 숫자는 ?1\n",
            "아까워요. 4 였는데요. 다시 해보세요. ㅠ\n",
            "제 7 회 컴퓨터가 생각한 숫자는 ?2\n",
            "아까워요. 3 였는데요. 다시 해보세요. ㅠ\n",
            "제 8 회 컴퓨터가 생각한 숫자는 ?4\n",
            "아까워요. 3 였는데요. 다시 해보세요. ㅠ\n",
            "제 9 회 컴퓨터가 생각한 숫자는 ?4\n",
            "아까워요. 1 였는데요. 다시 해보세요. ㅠ\n",
            "제 10 회 컴퓨터가 생각한 숫자는 ?3\n",
            "아까워요. 5 였는데요. 다시 해보세요. ㅠ\n"
          ]
        }
      ]
    },
    {
      "cell_type": "code",
      "source": [
        "import random\n",
        "\n",
        "count = 1\n",
        "num = random.sample(range(1,10),3)\n",
        "print(num)\n",
        "\n",
        "while count <= 10 :\n",
        "  strike = 0\n",
        "  ball = 0\n",
        "\n",
        "\n",
        "\n",
        "  print(count, \"회 숫자 야구 게임 시작\")\n",
        "  pin = input(\"3자리 숫자를 입력 : \")\n",
        "  pin = list(pin)\n",
        "  pin[0] = int(pin[0])\n",
        "  pin[1] = int(pin[1])\n",
        "  pin[2] = int(pin[2])\n",
        "\n",
        "  count = count + 1\n",
        "\n",
        "  if (num[0] == pin[0]) :\n",
        "    strike = strike + 1\n",
        "  elif pin[0] in num :\n",
        "    ball = ball + 1\n",
        "  if (num[1] == pin[1]) :\n",
        "    strike = strike + 1\n",
        "  elif pin[1] in num :\n",
        "    ball = ball + 1\n",
        "  if (num[2] == pin[2]) :\n",
        "    strike = strike + 1\n",
        "  elif pin[2] in num :\n",
        "    ball = ball + 1\n",
        "\n",
        "  print(\"스트라이크 - \", strike, \"볼 - \", ball)\n",
        "\n",
        "  \n",
        "  if num[0] == pin[0] and num[1] == pin[1] and num[2] == pin[2] :\n",
        "    print(\"3 Strike 성공!\")\n",
        "    break\n",
        "    \n",
        "\n",
        "  \n",
        "\n",
        "\n",
        "\n",
        "\n",
        "\n",
        "\n",
        "\n"
      ],
      "metadata": {
        "colab": {
          "base_uri": "https://localhost:8080/"
        },
        "id": "p4vHCQvzVFzk",
        "outputId": "3768c848-d764-456b-f693-73d4d0831527"
      },
      "execution_count": 56,
      "outputs": [
        {
          "output_type": "stream",
          "name": "stdout",
          "text": [
            "[7, 2, 5]\n",
            "1 회 숫자 야구 게임 시작\n",
            "3자리 숫자를 입력 : 735\n",
            "스트라이크 -  2 볼 -  0\n",
            "2 회 숫자 야구 게임 시작\n",
            "3자리 숫자를 입력 : 751\n",
            "스트라이크 -  1 볼 -  1\n",
            "3 회 숫자 야구 게임 시작\n",
            "3자리 숫자를 입력 : 125\n",
            "스트라이크 -  2 볼 -  0\n",
            "4 회 숫자 야구 게임 시작\n",
            "3자리 숫자를 입력 : 257\n",
            "스트라이크 -  0 볼 -  3\n",
            "5 회 숫자 야구 게임 시작\n",
            "3자리 숫자를 입력 : 725\n",
            "스트라이크 -  3 볼 -  0\n",
            "3 Strike 성공!\n"
          ]
        }
      ]
    }
  ]
}