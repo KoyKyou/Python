{
  "nbformat": 4,
  "nbformat_minor": 0,
  "metadata": {
    "colab": {
      "provenance": [],
      "authorship_tag": "ABX9TyPHFIxDEJGRfUl3iVDVioB5",
      "include_colab_link": true
    },
    "kernelspec": {
      "name": "python3",
      "display_name": "Python 3"
    },
    "language_info": {
      "name": "python"
    }
  },
  "cells": [
    {
      "cell_type": "markdown",
      "metadata": {
        "id": "view-in-github",
        "colab_type": "text"
      },
      "source": [
        "<a href=\"https://colab.research.google.com/github/KoyKyou/Python/blob/main/%EA%B3%BC%EC%A0%9C1.ipynb\" target=\"_parent\"><img src=\"https://colab.research.google.com/assets/colab-badge.svg\" alt=\"Open In Colab\"/></a>"
      ]
    },
    {
      "cell_type": "code",
      "source": [
        "print(\"## 택배를 보내기 위한 정보를 입력하세요.##\")\n",
        "recieve_name = input(\"받는 사람 : \")\n",
        "address = input(\"주소 : \")\n",
        "weight = int((input(\"무게(g) : \")))\n",
        "value = weight * 5\n",
        "\n",
        "print(\"** 받는 사람 ==> \", recieve_name)\n",
        "print(\"** 주소 ==> \", address)\n",
        "print(\"** 배송비 ==> \", money, \"원\")\n"
      ],
      "metadata": {
        "id": "9swwGmb3Frv_",
        "colab": {
          "base_uri": "https://localhost:8080/"
        },
        "outputId": "392bcff7-a268-4ae6-b99a-203bbaafd873"
      },
      "execution_count": null,
      "outputs": [
        {
          "name": "stdout",
          "output_type": "stream",
          "text": [
            "## 택배를 보내기 위한 정보를 입력하세요.##\n",
            "받는 사람 : ㅇㅅㅇ\n"
          ]
        }
      ]
    }
  ]
}