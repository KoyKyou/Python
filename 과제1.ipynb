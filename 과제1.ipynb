{
  "nbformat": 4,
  "nbformat_minor": 0,
  "metadata": {
    "colab": {
      "provenance": [],
      "authorship_tag": "ABX9TyMm/ZzdE4PQUesOKymTLSwZ",
      "include_colab_link": true
    },
    "kernelspec": {
      "name": "python3",
      "display_name": "Python 3"
    },
    "language_info": {
      "name": "python"
    }
  },
  "cells": [
    {
      "cell_type": "markdown",
      "metadata": {
        "id": "view-in-github",
        "colab_type": "text"
      },
      "source": [
        "<a href=\"https://colab.research.google.com/github/KoyKyou/Python/blob/main/%EA%B3%BC%EC%A0%9C1.ipynb\" target=\"_parent\"><img src=\"https://colab.research.google.com/assets/colab-badge.svg\" alt=\"Open In Colab\"/></a>"
      ]
    },
    {
      "cell_type": "code",
      "source": [
        "print(\"## 택배를 보내기 위한 정보를 입력하세요.##\")\n",
        "recieve_name = input(\"받는 사람 : \")\n",
        "address = input(\"주소 : \")\n",
        "weight = int((input(\"무게(g) : \")))\n",
        "value = weight * 5\n",
        "\n",
        "print(\"** 받는 사람 ==> \", recieve_name)\n",
        "print(\"** 주소 ==> \", address)\n",
        "print(\"** 배송비 ==> \", value, \"원\")\n"
      ],
      "metadata": {
        "id": "9swwGmb3Frv_",
        "colab": {
          "base_uri": "https://localhost:8080/"
        },
        "outputId": "7e5fd19f-3f90-4fde-fd82-971b02875787"
      },
      "execution_count": 9,
      "outputs": [
        {
          "output_type": "stream",
          "name": "stdout",
          "text": [
            "## 택배를 보내기 위한 정보를 입력하세요.##\n",
            "받는 사람 : ㅇㅅㅇ\n",
            "주소 : 안산공고\n",
            "무게(g) : 0823\n",
            "** 받는 사람 ==>  ㅇㅅㅇ\n",
            "** 주소 ==>  안산공고\n",
            "** 배송비 ==>  4115 원\n"
          ]
        }
      ]
    }
  ]
}