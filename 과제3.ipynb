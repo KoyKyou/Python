{
  "nbformat": 4,
  "nbformat_minor": 0,
  "metadata": {
    "colab": {
      "provenance": [],
      "authorship_tag": "ABX9TyOEUlX+slvjDpgsxWoqoKyL",
      "include_colab_link": true
    },
    "kernelspec": {
      "name": "python3",
      "display_name": "Python 3"
    },
    "language_info": {
      "name": "python"
    }
  },
  "cells": [
    {
      "cell_type": "markdown",
      "metadata": {
        "id": "view-in-github",
        "colab_type": "text"
      },
      "source": [
        "<a href=\"https://colab.research.google.com/github/KoyKyou/Python/blob/main/%EA%B3%BC%EC%A0%9C3.ipynb\" target=\"_parent\"><img src=\"https://colab.research.google.com/assets/colab-badge.svg\" alt=\"Open In Colab\"/></a>"
      ]
    },
    {
      "cell_type": "code",
      "execution_count": 4,
      "metadata": {
        "colab": {
          "base_uri": "https://localhost:8080/"
        },
        "id": "6lAS56CuLhTN",
        "outputId": "29c7f63b-3d03-43c4-d938-caae7a1da792"
      },
      "outputs": [
        {
          "output_type": "stream",
          "name": "stdout",
          "text": [
            "파운드(lb)를 입력하세요: 15\n",
            "15.0 파운드(lb)는 6.80388 킬로그램(kb)입니다.\n",
            "킬로그램(kb)를 입력하세요: 15\n",
            "15.0 킬로그램(kb)는 33.06935 파운드(lb)입니다.\n"
          ]
        }
      ],
      "source": [
        "num1 = float(input(\"파운드(lb)를 입력하세요: \"))\n",
        "result1 = num1 * 0.453592\n",
        "print(num1, \"파운드(lb)는\", round(result1, 5), \"킬로그램(kb)입니다.\")\n",
        "num2 = float(input(\"킬로그램(kb)를 입력하세요: \"))\n",
        "result2 = num2 * 2.204623\n",
        "print(num2, \"킬로그램(kb)는\", round(result2, 5), \"파운드(lb)입니다.\")"
      ]
    }
  ]
}